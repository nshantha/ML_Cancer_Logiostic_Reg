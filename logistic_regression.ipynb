{
 "cells": [
  {
   "cell_type": "markdown",
   "metadata": {},
   "source": [
    "## Logistic Regression"
   ]
  },
  {
   "cell_type": "code",
   "execution_count": 19,
   "metadata": {},
   "outputs": [],
   "source": [
    "# Importing necessary libraries\n",
    "import pandas as pd\n",
    "import matplotlib.pyplot as plt\n",
    "import numpy as np\n",
    "\n",
    "from sklearn.metrics import confusion_matrix "
   ]
  },
  {
   "cell_type": "code",
   "execution_count": 2,
   "metadata": {},
   "outputs": [],
   "source": [
    "# reading the dataset file\n",
    "dataset = pd.read_csv('wdbc.dataset',header = None)"
   ]
  },
  {
   "cell_type": "code",
   "execution_count": 3,
   "metadata": {},
   "outputs": [],
   "source": [
    "# mapping B as 0 and M as 1 in the dataset file\n",
    "f = lambda x: 0 if x=='B' else 1\n",
    "dataset[1] = dataset[1].map(f)\n",
    "\n",
    "data = np.array(dataset)"
   ]
  },
  {
   "cell_type": "code",
   "execution_count": 4,
   "metadata": {},
   "outputs": [],
   "source": [
    "np.random.shuffle(data)\n",
    "#Splitting input matrix into train,validation and test set\n",
    "X_train, X_valid, X_test = data[:456,2:], data[456:513,2:], data[513:,2:]\n",
    "\n",
    "#Splitting labelled vector into train,validation and test set\n",
    "Y_train, Y_valid, Y_test = data[:456,1:2], data[456:513,1:2], data[513:,1:2]"
   ]
  },
  {
   "cell_type": "code",
   "execution_count": 5,
   "metadata": {},
   "outputs": [],
   "source": [
    "# Normalizing the data using feature scaling\n",
    "def normalization(X):\n",
    "    \n",
    "    # computing normalization\n",
    "    X_norm = np.linalg.norm(X, axis=1, keepdims = True);\n",
    "    \n",
    "    # dividing main matrix by the normalized value\n",
    "    X = X / X_norm;\n",
    "    \n",
    "    return X"
   ]
  },
  {
   "cell_type": "code",
   "execution_count": 6,
   "metadata": {},
   "outputs": [],
   "source": [
    "# Transpose of train,test and validation data after normalization\n",
    "X_train = normalization(X_train)\n",
    "X_valid = normalization(X_valid)\n",
    "X_test = normalization(X_test)\n",
    "\n",
    "X_t, Y_t = X_train.T, Y_train.T\n",
    "X_v, Y_v = X_valid.T, Y_valid.T\n",
    "X_test, Y_test = X_test.T, Y_test.T\n"
   ]
  },
  {
   "cell_type": "code",
   "execution_count": 7,
   "metadata": {},
   "outputs": [],
   "source": [
    "# initialization of weights and bias\n",
    "def initialization(X):\n",
    "    w = np.random.randn(X.shape[0], 1)\n",
    "    b = 0.0\n",
    "\n",
    "    return w,b  "
   ]
  },
  {
   "cell_type": "code",
   "execution_count": 8,
   "metadata": {},
   "outputs": [],
   "source": [
    "# calculating sigmoid\n",
    "def sigmoid(sig):\n",
    "    return 1 / (1 + np.exp(-sig))"
   ]
  },
  {
   "cell_type": "code",
   "execution_count": 9,
   "metadata": {},
   "outputs": [],
   "source": [
    "# Calculate Gradient Descent\n",
    "\n",
    "def gradient_descent(X,Y,num_iterations,learning_rate):\n",
    "    global w,b\n",
    "    \n",
    "    cost_values = []\n",
    "    \n",
    "    # no of training examples\n",
    "    m = X.shape[1]\n",
    "    \n",
    "    for i in range(num_iterations):\n",
    "        \n",
    "        # Forward Propogation\n",
    "        a = sigmoid(np.dot(w.T,X) + b)\n",
    "        \n",
    "        # Cost function\n",
    "        cost = -np.sum(np.multiply(np.log(a), Y) + np.multiply((1 - Y), np.log(1 - a)))/m\n",
    "        cost_values.append(np.squeeze(cost))\n",
    "        \n",
    "        # Back Propogation\n",
    "        dz = a-Y\n",
    "        dw = (1 / m) * np.dot(X, dz.T)\n",
    "        db = (1 / m) * np.sum(dz)\n",
    "        \n",
    "        # updating parameters\n",
    "        w = w - learning_rate * dw\n",
    "        b = b - learning_rate * db\n",
    "       \n",
    "        # printing cost for every 3000 iteration\n",
    "        if i % 3000 == 0:\n",
    "            print (\"Cost after %i iteration : %f\" %(i, cost))\n",
    "\n",
    "    # plotting cost wrt to epoch\n",
    "    plt.plot(cost_values)\n",
    "    plt.title(\"Cost with respect to each iteration\")\n",
    "    plt.xlabel(\"Epoch\")\n",
    "    plt.ylabel(\"Cost\")\n",
    "    return cost\n"
   ]
  },
  {
   "cell_type": "code",
   "execution_count": 10,
   "metadata": {},
   "outputs": [],
   "source": [
    "# Prediction function\n",
    "def prediction(w,b,X):\n",
    "    \n",
    "    m = X.shape[1]\n",
    "\n",
    "    # Initializing output prediction matrix\n",
    "    Y_prediction = np.zeros((1,m))\n",
    "\n",
    "    a =  sigmoid(np.dot(w.T,X)+ b)\n",
    "\n",
    "    # Assigning 1 if > 0.5 otherwise 0 for prediction matrix\n",
    "    for i in range(a.shape[1]):\n",
    "        Y_prediction[0, i] = 1 if a[0, i] > 0.5 else 0\n",
    "    \n",
    "    return Y_prediction  "
   ]
  },
  {
   "cell_type": "markdown",
   "metadata": {},
   "source": [
    "##### Accuracy = TP + TN / (TP + TN + FP + FN)"
   ]
  },
  {
   "cell_type": "code",
   "execution_count": 11,
   "metadata": {},
   "outputs": [],
   "source": [
    "# Accuracy module\n",
    "def accuracy(tn,tp,fp,fn,flag):\n",
    "    if(flag == 0):\n",
    "        acc = (tp + tn)/(tp + tn + fp + fn)\n",
    "        print(\"train accuracy = \", acc*100,\"%\")\n",
    "    if(flag == 1):\n",
    "        acc = (tp + tn)/(tp + tn + fp + fn)\n",
    "        print(\"Validation accuracy = \", acc*100,\"%\")\n",
    "    if(flag == 2):\n",
    "        acc = (tp + tn)/(tp + tn + fp + fn)\n",
    "        print(\"Test accuracy = \", acc*100,\"%\")"
   ]
  },
  {
   "cell_type": "markdown",
   "metadata": {},
   "source": [
    "##### Precison = TP / (TP + FP)"
   ]
  },
  {
   "cell_type": "code",
   "execution_count": 12,
   "metadata": {},
   "outputs": [],
   "source": [
    "# Precision module\n",
    "def precision(tn,tp,fp,fn,flag):\n",
    "    if(flag == 0):\n",
    "        acc = tp / (tp + fp)\n",
    "        print(\"train precision = \", acc*100,\"%\")\n",
    "    if(flag == 1):\n",
    "        acc = tp / (tp + fp)\n",
    "        print(\"Validation precision = \", acc*100,\"%\")\n",
    "    if(flag == 2):\n",
    "        acc = tp / (tp + fp)\n",
    "        print(\"Test precision = \", acc*100,\"%\")"
   ]
  },
  {
   "cell_type": "markdown",
   "metadata": {},
   "source": [
    "##### Recall = TP / (TP + FN)"
   ]
  },
  {
   "cell_type": "code",
   "execution_count": 13,
   "metadata": {},
   "outputs": [],
   "source": [
    "# Recall module\n",
    "def recall(tn,tp,fp,fn,flag):\n",
    "    if(flag == 0):\n",
    "        acc = tp / (tp + fn)\n",
    "        print(\"train recall = \", acc*100,\"%\")\n",
    "    if(flag == 1):\n",
    "        acc = tp / (tp + fn)\n",
    "        print(\"Validation recall = \", acc*100,\"%\")\n",
    "    if(flag == 2):\n",
    "        acc = tp / (tp + fn)\n",
    "        print(\"Test recall = \", acc*100,\"%\")"
   ]
  },
  {
   "cell_type": "code",
   "execution_count": 14,
   "metadata": {},
   "outputs": [],
   "source": [
    "# Calling accuracy, precision and Recall\n",
    "def calc_params(confusion_matrix, flag):\n",
    "    tn = confusion_matrix[0][0]\n",
    "    tp = confusion_matrix[1][1]\n",
    "    fp = confusion_matrix[0][1]\n",
    "    fn = confusion_matrix[1][0]\n",
    "    \n",
    "    accuracy(tn,tp,fp,fn,flag)\n",
    "    precision(tn,tp,fp,fn,flag)\n",
    "    recall(tn,tp,fp,fn,flag)\n"
   ]
  },
  {
   "cell_type": "code",
   "execution_count": 15,
   "metadata": {},
   "outputs": [],
   "source": [
    "# Model for Logistic Regression\n",
    "def logistic_regression(X_train, X_valid, Y_train, Y_valid, num_iterations, learning_rate):\n",
    "    \n",
    "    global w,b\n",
    "    \n",
    "    # initialization call for w and b\n",
    "    w, b = initialization(X_train)\n",
    "    \n",
    "    #Gradient_descent\n",
    "    cost_values = gradient_descent(X_train, Y_train, num_iterations, learning_rate)\n",
    "    \n",
    "    # training prediction output\n",
    "    Y_pred_train = prediction(w,b,X_train)\n",
    "    \n",
    "    # validation prediction output\n",
    "    Y_pred_valid = prediction(w,b,X_valid)\n",
    "\n",
    "    # Using confusion matrix for calculating TP,TN,FP,FN\n",
    "    conf_train = confusion_matrix(Y_train[0] , Y_pred_train[0])\n",
    "    conf_valid = confusion_matrix(Y_valid[0] , Y_pred_valid[0])\n",
    "    \n",
    "    # Calculating accuracy, precision and recall for train and validation data\n",
    "    # flag = 0 for train and 1 for validation\n",
    "    calc_params(conf_train,0)\n",
    "    calc_params(conf_valid,1)\n",
    "\n",
    "    \n",
    "    model_data = {\"costs\": cost_values,\n",
    "     \"Y_prediction_train\" : Y_pred_train, \n",
    "     \"w\" : w, \n",
    "     \"b\" : b,\n",
    "     \"learning_rate\" : learning_rate,\n",
    "     \"num_iterations\": num_iterations}\n",
    "    \n",
    "    return model_data"
   ]
  },
  {
   "cell_type": "code",
   "execution_count": 16,
   "metadata": {
    "scrolled": true
   },
   "outputs": [
    {
     "name": "stdout",
     "output_type": "stream",
     "text": [
      "Cost after 0 iteration : 0.759062\n",
      "Cost after 3000 iteration : 0.376925\n",
      "Cost after 6000 iteration : 0.312877\n",
      "Cost after 9000 iteration : 0.284549\n",
      "Cost after 12000 iteration : 0.268002\n",
      "Cost after 15000 iteration : 0.256921\n",
      "Cost after 18000 iteration : 0.248878\n",
      "train accuracy =  91.44736842105263 %\n",
      "train precision =  92.40506329113924 %\n",
      "train recall =  84.39306358381504 %\n",
      "Validation accuracy =  91.22807017543859 %\n",
      "Validation precision =  92.85714285714286 %\n",
      "Validation recall =  76.47058823529412 %\n"
     ]
    },
    {
     "data": {
      "image/png": "[encoded data removed]",
      "text/plain": [
       "<Figure size 432x288 with 1 Axes>"
      ]
     },
     "metadata": {
      "needs_background": "light"
     },
     "output_type": "display_data"
    }
   ],
   "source": [
    "# Calling Model with hyperparameters\n",
    "model_data = logistic_regression(X_t, X_v, Y_t, Y_v, num_iterations = 20000, learning_rate = 0.5)"
   ]
  },
  {
   "cell_type": "code",
   "execution_count": 17,
   "metadata": {},
   "outputs": [],
   "source": [
    "# Testing test data\n",
    "Y_pred_test = prediction(w,b,X_test)"
   ]
  },
  {
   "cell_type": "code",
   "execution_count": 18,
   "metadata": {},
   "outputs": [
    {
     "name": "stdout",
     "output_type": "stream",
     "text": [
      "Test accuracy =  91.07142857142857 %\n",
      "Test precision =  94.73684210526315 %\n",
      "Test recall =  81.81818181818183 %\n"
     ]
    }
   ],
   "source": [
    "# Calculating accuracy, precision and recall for test data\n",
    "conf_test = confusion_matrix(Y_test[0] , Y_pred_test[0])\n",
    "calc_params(conf_test,2)"
   ]
  }
 ],
 "metadata": {
  "kernelspec": {
   "display_name": "Python 3",
   "language": "python",
   "name": "python3"
  },
  "language_info": {
   "codemirror_mode": {
    "name": "ipython",
    "version": 3
   },
   "file_extension": ".py",
   "mimetype": "text/x-python",
   "name": "python",
   "nbconvert_exporter": "python",
   "pygments_lexer": "ipython3",
   "version": "3.7.3"
  }
 },
 "nbformat": 4,
 "nbformat_minor": 2
}
